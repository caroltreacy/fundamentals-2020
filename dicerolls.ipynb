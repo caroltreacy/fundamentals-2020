{
 "cells": [
  {
   "cell_type": "markdown",
   "metadata": {},
   "source": [
    "# Task 2"
   ]
  },
  {
   "cell_type": "markdown",
   "metadata": {},
   "source": [
    "## Dicerolls"
   ]
  },
  {
   "cell_type": "markdown",
   "metadata": {},
   "source": [
    "## by Carol Treacy"
   ]
  },
  {
   "cell_type": "markdown",
   "metadata": {},
   "source": [
    "## Introduction "
   ]
  },
  {
   "cell_type": "markdown",
   "metadata": {},
   "source": [
    "This program is called dicerolls and it simulates rolling dice. The function has two parameters: \n",
    "- the number of dice k \n",
    "- the number of times to roll the dice n. \n",
    "\n",
    "The function simulates randomly rolling k dice n times, keeping track of each total face value. It then returns a dictionary with the number of times each possible total face value occurred. \n",
    "\n",
    "The program should return a function as diceroll(k=2, n=1000)should return a dictionary like:{2:19,3:50,4:82,5:112,6:135,7:174,8:133,9:114,10:75,11:70,12:36}"
   ]
  },
  {
   "cell_type": "markdown",
   "metadata": {},
   "source": [
    "## Uniform Distribution"
   ]
  },
  {
   "cell_type": "markdown",
   "metadata": {},
   "source": [
    "\n",
    "\n",
    "In statistics, uniform distribution is a term used to describe a form of probability distribution where every possible outcome has an equal likelihood of happening. The probability is constant since each variable has equal chances of being the outcome. Good examples are picking a card from a deck or rolling a dice.\n",
    "\n",
    "Withing the uniform distribution there are two examples of uniform distributions.\n",
    "\n",
    "Descrete uniform distributions\n",
    "\n",
    "    probability of hitting heads or tails\n",
    "    probability of landing on each side of a dice\n",
    "\n",
    "Continuous uniform distribution\n",
    "\n",
    "    perfect random number generator\n",
    "    probability of guessing exact time at any moment\n",
    "\n"
   ]
  },
  {
   "cell_type": "code",
   "execution_count": 7,
   "metadata": {},
   "outputs": [],
   "source": [
    "# imported to run programs\n",
    "import numpy as np\n",
    "import matplotlib.pyplot as plt\n",
    "import pandas as pd\n",
    "import seaborn as sns"
   ]
  },
  {
   "cell_type": "markdown",
   "metadata": {},
   "source": [
    "Basic code to give results of rolling a dice 1000 and the results it returns. "
   ]
  },
  {
   "cell_type": "code",
   "execution_count": 11,
   "metadata": {},
   "outputs": [
    {
     "data": {
      "text/plain": [
       "array([4.20827989, 1.81705901, 4.97872711, 5.89482402, 2.44824724,\n",
       "       3.93450096, 1.89335512, 2.1821522 , 2.65457326, 1.15640704])"
      ]
     },
     "execution_count": 11,
     "metadata": {},
     "output_type": "execute_result"
    }
   ],
   "source": [
    "np.random.uniform(1.0,6.0,10)\n",
    "#the first number is the lowest, the second is the highest, and the last is the amount of numbers i want to return"
   ]
  },
  {
   "cell_type": "code",
   "execution_count": null,
   "metadata": {},
   "outputs": [],
   "source": []
  },
  {
   "cell_type": "markdown",
   "metadata": {},
   "source": [
    "## References"
   ]
  },
  {
   "cell_type": "markdown",
   "metadata": {},
   "source": [
    "https://www.quora.com/How-can-I-generate-a-uniform-distribution-of-numbers-from-a-dice-roll-fairly\n",
    "\n",
    "https://en.wikibooks.org/wiki/Probability/Important_Distributions"
   ]
  }
 ],
 "metadata": {
  "kernelspec": {
   "display_name": "Python 3",
   "language": "python",
   "name": "python3"
  },
  "language_info": {
   "codemirror_mode": {
    "name": "ipython",
    "version": 3
   },
   "file_extension": ".py",
   "mimetype": "text/x-python",
   "name": "python",
   "nbconvert_exporter": "python",
   "pygments_lexer": "ipython3",
   "version": "3.8.3"
  }
 },
 "nbformat": 4,
 "nbformat_minor": 4
}
