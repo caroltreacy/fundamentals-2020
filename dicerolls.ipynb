{
 "cells": [
  {
   "cell_type": "markdown",
   "metadata": {},
   "source": [
    "# November 2nd, 2020:Write a Python function calleddicerollsthat simulatesrolling dice.  Your function should take two parameters:  the number of dicekandthe number of times to roll the dicen.  The function should simulate randomlyrollingkdicentimes, keeping track of each total face value.  It should then returna dictionary with the number of times each possible total face value occurred.  So,calling the function asdiceroll(k=2, n=1000)should return a dictionary like:{2:19,3:50,4:82,5:112,6:135,7:174,8:133,9:114,10:75,11:70,12:36}You can use any module from the Python standard library you wish and you shouldinclude a description with references of your algorithm in the notebook"
   ]
  },
  {
   "cell_type": "markdown",
   "metadata": {},
   "source": [
    "# Task 2"
   ]
  },
  {
   "cell_type": "markdown",
   "metadata": {},
   "source": [
    "## Dicerolls"
   ]
  },
  {
   "cell_type": "markdown",
   "metadata": {},
   "source": [
    "## by Carol Treacy"
   ]
  },
  {
   "cell_type": "markdown",
   "metadata": {},
   "source": [
    "## Introduction "
   ]
  },
  {
   "cell_type": "markdown",
   "metadata": {},
   "source": [
    "This program is called dicerolls and it simulates rolling dice. The function has two parameters: \n",
    "- the number of dice k \n",
    "- the number of times to roll the dice n. \n",
    "\n",
    "The function simulates randomly rolling k dice n times, keeping track of each total face value. It then returns a dictionary with the number of times each possible total face value occurred. \n",
    "\n",
    "The program should return a function as diceroll(k=2, n=1000)should return a dictionary like:{2:19,3:50,4:82,5:112,6:135,7:174,8:133,9:114,10:75,11:70,12:36}"
   ]
  },
  {
   "cell_type": "markdown",
   "metadata": {},
   "source": [
    "## Uniform Distribution"
   ]
  },
  {
   "cell_type": "markdown",
   "metadata": {},
   "source": [
    "\n",
    "\n",
    "In statistics, uniform distribution is a term used to describe a form of probability distribution where every possible outcome has an equal likelihood of happening. The probability is constant since each variable has equal chances of being the outcome. Good examples are picking a card from a deck or rolling a dice.\n",
    "\n",
    "Withing the uniform distribution there are two examples of uniform distributions.\n",
    "\n",
    "Descrete uniform distributions\n",
    "\n",
    "    probability of hitting heads or tails\n",
    "    probability of landing on each side of a dice\n",
    "\n",
    "Continuous uniform distribution\n",
    "\n",
    "    perfect random number generator\n",
    "    probability of guessing exact time at any moment\n",
    "\n"
   ]
  },
  {
   "cell_type": "markdown",
   "metadata": {},
   "source": [
    "## Import Code to run programs"
   ]
  },
  {
   "cell_type": "code",
   "execution_count": 2,
   "metadata": {},
   "outputs": [],
   "source": [
    "# imported to run programs\n",
    "import numpy as np\n",
    "import matplotlib.pyplot as plt\n",
    "import pandas as pd\n",
    "import seaborn as sns"
   ]
  },
  {
   "cell_type": "markdown",
   "metadata": {},
   "source": [
    "## Carring out task"
   ]
  },
  {
   "cell_type": "markdown",
   "metadata": {},
   "source": [
    "Basic code to give results of rolling a dice 1000 and the results it returns. "
   ]
  },
  {
   "cell_type": "code",
   "execution_count": 5,
   "metadata": {},
   "outputs": [],
   "source": [
    "# np.random.uniform(1.0,6.0,1000)\n",
    "#the first number is the lowest, the second is the highest, and the last is the amount of numbers i want to return"
   ]
  },
  {
   "cell_type": "code",
   "execution_count": 7,
   "metadata": {},
   "outputs": [
    {
     "data": {
      "text/plain": [
       "array([3, 4, 2, 3, 0, 3, 4, 4, 3, 5, 2, 3, 3, 4, 2, 1, 3, 3, 5, 3, 4, 5,\n",
       "       5, 1, 1, 2, 2, 0, 3, 4, 5, 4, 3, 4, 4, 4, 5, 4, 2, 3, 3, 3, 3, 5,\n",
       "       4, 3, 3, 5, 5, 3, 3, 3, 4, 5, 2, 2, 3, 3, 4, 1, 2, 5, 1, 5, 3, 2,\n",
       "       4, 4, 5, 3, 3, 4, 2, 3, 4, 3, 3, 2, 3, 1, 4, 2, 2, 4, 3, 3, 4, 0,\n",
       "       1, 3, 5, 3, 2, 2, 1, 4, 4, 4, 3, 3], dtype=int64)"
      ]
     },
     "execution_count": 7,
     "metadata": {},
     "output_type": "execute_result"
    }
   ],
   "source": [
    "rng = np.random.default_rng()\n",
    "n, p = 6, .5  \n",
    "# 6(0 to 5 and not including 6) is the number that will give 6 possible answers, .5 is the % of heads/tails,\n",
    "s = rng.binomial(n, p, 100) \n",
    "# result of flipping a coin 100\n",
    "s"
   ]
  },
  {
   "cell_type": "markdown",
   "metadata": {},
   "source": [
    "### Plotting 100 times rolling dice"
   ]
  },
  {
   "cell_type": "code",
   "execution_count": 8,
   "metadata": {},
   "outputs": [
    {
     "data": {
      "image/png": "[encoded data removed]",
      "text/plain": [
       "<Figure size 432x288 with 1 Axes>"
      ]
     },
     "metadata": {
      "needs_background": "light"
     },
     "output_type": "display_data"
    }
   ],
   "source": [
    "plt.xlabel(\"Numbers on dice\")\n",
    "plt.ylabel(\"Times tested\")\n",
    "plt.title(\"Rolling dice\")\n",
    "plt.hist(s)\n",
    "plt.show()\n"
   ]
  },
  {
   "cell_type": "markdown",
   "metadata": {},
   "source": [
    "## Carrying out the test 1000"
   ]
  },
  {
   "cell_type": "code",
   "execution_count": 6,
   "metadata": {},
   "outputs": [
    {
     "data": {
      "text/plain": [
       "0.795"
      ]
     },
     "execution_count": 6,
     "metadata": {},
     "output_type": "execute_result"
    }
   ],
   "source": [
    "sum(rng.binomial(2, 0.1, 1000) == 0)/1000 \n",
    "# completed the task 1000 times to see how often 1 could be randoming selected"
   ]
  },
  {
   "cell_type": "markdown",
   "metadata": {},
   "source": [
    "## Diceroll (k=2, n =1000)"
   ]
  },
  {
   "cell_type": "code",
   "execution_count": null,
   "metadata": {},
   "outputs": [],
   "source": []
  },
  {
   "cell_type": "markdown",
   "metadata": {},
   "source": [
    "## References"
   ]
  },
  {
   "cell_type": "markdown",
   "metadata": {},
   "source": [
    "https://www.quora.com/How-can-I-generate-a-uniform-distribution-of-numbers-from-a-dice-roll-fairly\n",
    "\n",
    "https://en.wikibooks.org/wiki/Probability/Important_Distributions\n",
    "\n",
    "https://github.com/caroltreacy/programming-2020-Ass/blob/main/Assignment%202020.ipynb\n",
    "    \n",
    "https://www.statisticshowto.com/probability-and-statistics/binomial-theorem/binomial-distribution-formula/"
   ]
  }
 ],
 "metadata": {
  "kernelspec": {
   "display_name": "Python 3",
   "language": "python",
   "name": "python3"
  },
  "language_info": {
   "codemirror_mode": {
    "name": "ipython",
    "version": 3
   },
   "file_extension": ".py",
   "mimetype": "text/x-python",
   "name": "python",
   "nbconvert_exporter": "python",
   "pygments_lexer": "ipython3",
   "version": "3.8.3"
  }
 },
 "nbformat": 4,
 "nbformat_minor": 4
}
