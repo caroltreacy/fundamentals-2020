{
 "cells": [
  {
   "cell_type": "markdown",
   "metadata": {},
   "source": [
    "# Task 3"
   ]
  },
  {
   "cell_type": "markdown",
   "metadata": {},
   "source": [
    "## By Carol Treacy"
   ]
  },
  {
   "cell_type": "markdown",
   "metadata": {},
   "source": [
    "## Numpy.random-Binomial function"
   ]
  },
  {
   "cell_type": "markdown",
   "metadata": {},
   "source": [
    "### Introduction"
   ]
  },
  {
   "cell_type": "markdown",
   "metadata": {},
   "source": [
    "This program numpy.random.binomial function is used to simulate flipping a coin with a 50/50 chance of heads or tails. If a coin is flipped many times then the number of heads is well approximated by a bell-shaped curve. It, if we flip a coin 100 times in a row the chance of getting 50 heads is relatively high, the chances of getting 0 or 100 heads is relatively low, and the chances of getting any other number of heads decreases as you moveaway from 50 in either direction towards 0 or 100. \n",
    "\n",
    "This python code will simulates flipping a coin 100 times. I will run this code 1,000 times, keeping track of the number of heads in each of the 1,000 simulations. I will plot the results to depict the resulting list of 1,000 numbers, showing that it roughly follows a bell-shaped curve."
   ]
  },
  {
   "cell_type": "markdown",
   "metadata": {},
   "source": [
    "## Code"
   ]
  },
  {
   "cell_type": "code",
   "execution_count": 19,
   "metadata": {},
   "outputs": [],
   "source": [
    "# to start using numpy.random you have to import numpy, matplotlib\n",
    "import numpy as np\n",
    "import matplotlib.pyplot as plt\n",
    "import pandas as pd\n",
    "import seaborn as sns"
   ]
  },
  {
   "cell_type": "markdown",
   "metadata": {},
   "source": [
    "## Binomial Distribution"
   ]
  },
  {
   "cell_type": "markdown",
   "metadata": {},
   "source": [
    "A binomial distribution can be thought of as simply the probability of a SUCCESS or FAILURE outcome in an experiment or survey that is repeated multiple times. The binomial is a type of distribution that has two possible outcomes (the prefix “bi” means two, or twice). For example, a coin toss has only two possible outcomes: heads or tails and taking a test could have two possible outcomes: pass or fail."
   ]
  },
  {
   "cell_type": "code",
   "execution_count": 21,
   "metadata": {},
   "outputs": [
    {
     "data": {
      "text/plain": [
       "array([6, 3, 4, 3, 5, 3, 2, 1, 3, 3, 3, 3, 5, 5, 3, 3, 3, 4, 6, 5, 5, 4,\n",
       "       4, 4, 1, 3, 4, 1, 4, 2, 5, 4, 3, 4, 3, 5, 3, 3, 5, 2, 0, 3, 4, 1,\n",
       "       4, 3, 3, 1, 2, 6, 6, 4, 4, 7, 2, 1, 3, 2, 3, 5, 5, 6, 5, 4, 3, 3,\n",
       "       4, 3, 2, 6, 3, 3, 5, 2, 3, 5, 0, 6, 2, 3, 4, 6, 2, 2, 3, 2, 5, 5,\n",
       "       3, 3, 5, 5, 6, 3, 3, 2, 4, 5, 4, 5], dtype=int64)"
      ]
     },
     "execution_count": 21,
     "metadata": {},
     "output_type": "execute_result"
    }
   ],
   "source": [
    "rng = np.random.default_rng()\n",
    "n, p = 7, .5  # 7 is the number that will give 6 possible answers, .5 is the % of heads/tails\n",
    "s = rng.binomial(n, p, 100) # result of flipping a coin 100\n",
    "s"
   ]
  },
  {
   "cell_type": "markdown",
   "metadata": {},
   "source": [
    "### Plotting 100 times dice rolled "
   ]
  },
  {
   "cell_type": "code",
   "execution_count": 23,
   "metadata": {},
   "outputs": [
    {
     "data": {
      "image/png": "[encoded data removed]",
      "text/plain": [
       "<Figure size 432x288 with 1 Axes>"
      ]
     },
     "metadata": {
      "needs_background": "light"
     },
     "output_type": "display_data"
    }
   ],
   "source": [
    "plt.xlabel(\"Numbers on dice\")\n",
    "plt.ylabel(\"Times tested\")\n",
    "plt.title(\"Flipping Coin\")\n",
    "plt.hist(s)\n",
    "plt.show()"
   ]
  },
  {
   "cell_type": "markdown",
   "metadata": {},
   "source": [
    "Carrying out the test 1000"
   ]
  },
  {
   "cell_type": "code",
   "execution_count": 28,
   "metadata": {},
   "outputs": [
    {
     "data": {
      "text/plain": [
       "0.821"
      ]
     },
     "execution_count": 28,
     "metadata": {},
     "output_type": "execute_result"
    }
   ],
   "source": [
    "sum(rng.binomial(2, 0.1, 1000) == 0)/1000 # completed the task 10000 times to see how often 1 could be randoming selected"
   ]
  },
  {
   "cell_type": "code",
   "execution_count": null,
   "metadata": {},
   "outputs": [],
   "source": []
  },
  {
   "cell_type": "markdown",
   "metadata": {},
   "source": [
    "## References"
   ]
  },
  {
   "cell_type": "code",
   "execution_count": null,
   "metadata": {},
   "outputs": [],
   "source": [
    "https://github.com/caroltreacy/programming-2020-Ass/blob/main/Assignment%202020.ipynb\n",
    "    \n",
    "https://www.statisticshowto.com/probability-and-statistics/binomial-theorem/binomial-distribution-formula/ "
   ]
  }
 ],
 "metadata": {
  "kernelspec": {
   "display_name": "Python 3",
   "language": "python",
   "name": "python3"
  },
  "language_info": {
   "codemirror_mode": {
    "name": "ipython",
    "version": 3
   },
   "file_extension": ".py",
   "mimetype": "text/x-python",
   "name": "python",
   "nbconvert_exporter": "python",
   "pygments_lexer": "ipython3",
   "version": "3.8.3"
  }
 },
 "nbformat": 4,
 "nbformat_minor": 4
}
