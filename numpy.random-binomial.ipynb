{
 "cells": [
  {
   "cell_type": "markdown",
   "metadata": {},
   "source": [
    "# Task 3"
   ]
  },
  {
   "cell_type": "markdown",
   "metadata": {},
   "source": [
    "## By Carol Treacy"
   ]
  },
  {
   "cell_type": "markdown",
   "metadata": {},
   "source": [
    "## Numpy.random-Binomial function"
   ]
  },
  {
   "cell_type": "markdown",
   "metadata": {},
   "source": [
    "## Introduction"
   ]
  },
  {
   "cell_type": "markdown",
   "metadata": {},
   "source": [
    "This program numpy.random.binomial function is used to simulate flipping a coin with a 50/50 chance of heads or tails. If a coin is flipped many times then the number of heads is well approximated by a bell-shaped curve. It, if we flip a coin 100 times in a row the chance of getting 50 heads is relatively high, the chances of getting 0 or 100 heads is relatively low, and the chances of getting any other number of heads decreases as you moveaway from 50 in either direction towards 0 or 100. \n",
    "\n",
    "This python code will simulates flipping a coin 100 times. I will run this code 1,000 times, keeping track of the number of heads in each of the 1,000 simulations. I will plot the results to depict the resulting list of 1,000 numbers, showing that it roughly follows a bell-shaped curve."
   ]
  },
  {
   "cell_type": "markdown",
   "metadata": {},
   "source": [
    "## Import packages"
   ]
  },
  {
   "cell_type": "code",
   "execution_count": 2,
   "metadata": {},
   "outputs": [],
   "source": [
    "# to start using numpy.random you have to import numpy, matplotlib\n",
    "import numpy as np\n",
    "from numpy import random\n",
    "import matplotlib.pyplot as plt\n",
    "import pandas as pd\n",
    "import seaborn as sns"
   ]
  },
  {
   "cell_type": "markdown",
   "metadata": {},
   "source": [
    "## Random numbers"
   ]
  },
  {
   "cell_type": "markdown",
   "metadata": {},
   "source": [
    "The randint distribution can randomly pick numbers between two values that you give them."
   ]
  },
  {
   "cell_type": "code",
   "execution_count": 3,
   "metadata": {},
   "outputs": [
    {
     "name": "stdout",
     "output_type": "stream",
     "text": [
      "66\n"
     ]
    }
   ],
   "source": [
    "x = random.randint(0, 100)\n",
    "\n",
    "print(x) # prints a random number"
   ]
  },
  {
   "cell_type": "markdown",
   "metadata": {},
   "source": [
    "## Binomial Distribution"
   ]
  },
  {
   "cell_type": "markdown",
   "metadata": {},
   "source": [
    "A binomial distribution can be thought of as simply the probability of a SUCCESS or FAILURE outcome in an experiment or survey that is repeated multiple times. The binomial is a type of distribution that has two possible outcomes (the prefix “bi” means two, or twice). For example, a coin toss has only two possible outcomes: heads or tails and taking a test could have two possible outcomes: pass or fail.\n",
    "\n",
    "The record flipping a coin 100 times I will use the binomial distribution from numpy.random."
   ]
  },
  {
   "cell_type": "markdown",
   "metadata": {},
   "source": [
    "### Flipping coin 100 times"
   ]
  },
  {
   "cell_type": "code",
   "execution_count": 4,
   "metadata": {},
   "outputs": [
    {
     "data": {
      "text/plain": [
       "array([1, 1, 1, 0, 0, 1, 0, 1, 1, 1, 0, 1, 1, 0, 0, 1, 1, 1, 1, 1, 0, 0,\n",
       "       1, 0, 1, 1, 0, 1, 0, 1, 1, 1, 1, 0, 1, 1, 0, 1, 1, 1, 0, 1, 1, 0,\n",
       "       0, 1, 0, 0, 1, 0, 1, 1, 1, 1, 1, 1, 0, 1, 0, 1, 1, 1, 1, 0, 1, 0,\n",
       "       0, 1, 1, 0, 0, 0, 0, 0, 1, 0, 1, 1, 0, 0, 1, 0, 1, 1, 1, 1, 0, 1,\n",
       "       1, 0, 1, 1, 1, 0, 0, 1, 1, 0, 0, 0], dtype=int64)"
      ]
     },
     "execution_count": 4,
     "metadata": {},
     "output_type": "execute_result"
    }
   ],
   "source": [
    "rng = np.random.default_rng()\n",
    "n, p = 1, .5  # 1 is heads and 0 is tails and .5 is the chances of heads/tails\n",
    "s = rng.binomial(n, p, 100) # result of flipping a coin 100 times.\n",
    "s"
   ]
  },
  {
   "cell_type": "code",
   "execution_count": 5,
   "metadata": {},
   "outputs": [
    {
     "name": "stdout",
     "output_type": "stream",
     "text": [
      "[1 1 1 0 0 1 0 1 1 1 0 1 1 0 0 1 1 1 1 1 0 0 1 0 1 1 0 1 0 1 1 1 1 0 1 1 0\n",
      " 1 1 1 0 1 1 0 0 1 0 0 1 0 1 1 1 1 1 1 0 1 0 1 1 1 1 0 1 0 0 1 1 0 0 0 0 0\n",
      " 1 0 1 1 0 0 1 0 1 1 1 1 0 1 1 0 1 1 1 0 0 1 1 0 0 0]\n"
     ]
    }
   ],
   "source": [
    "list = ['s']\n",
    "print(s)"
   ]
  },
  {
   "cell_type": "markdown",
   "metadata": {},
   "source": [
    "### Plot of flipping a coin 100 times"
   ]
  },
  {
   "cell_type": "markdown",
   "metadata": {},
   "source": [
    "The results of flipping a coin 100 times gives we would not suspect that the coin is biased, this could very easily happen \"by chance\".  This randomly gave me the results of 40 heads and 60 tails."
   ]
  },
  {
   "cell_type": "code",
   "execution_count": 10,
   "metadata": {},
   "outputs": [
    {
     "data": {
      "image/png": "[encoded data removed]",
      "text/plain": [
       "<Figure size 432x288 with 1 Axes>"
      ]
     },
     "metadata": {
      "needs_background": "light"
     },
     "output_type": "display_data"
    }
   ],
   "source": [
    "plt.xlabel(\"0=heads, 1=tails\")\n",
    "plt.ylabel(\"Times flipped\")\n",
    "plt.title(\"Flipping coin 100 times\")\n",
    "plt.hist(s)\n",
    "plt.show()"
   ]
  },
  {
   "cell_type": "code",
   "execution_count": 18,
   "metadata": {},
   "outputs": [
    {
     "data": {
      "text/plain": [
       "0.829"
      ]
     },
     "execution_count": 18,
     "metadata": {},
     "output_type": "execute_result"
    }
   ],
   "source": [
    "sum(rng.binomial(2, 0.1, 1000) == 0)/1000 \n",
    "# completed the task 1000 times to see how often 1 could be randoming selected"
   ]
  },
  {
   "cell_type": "markdown",
   "metadata": {},
   "source": [
    "## Running the sample 1000 times"
   ]
  },
  {
   "cell_type": "code",
   "execution_count": 18,
   "metadata": {},
   "outputs": [
    {
     "name": "stdout",
     "output_type": "stream",
     "text": [
      "[49 36 50 52 50 51 46 53 44 60 51 48 53 46 50 48 51 58 45 49 60 55 55 57\n",
      " 49 51 61 47 50 49 54 53 54 56 44 41 62 53 60 48 52 58 48 48 55 54 52 50\n",
      " 57 52 49 49 49 52 55 58 41 54 56 50 48 48 49 55 43 55 55 49 54 53 54 52\n",
      " 49 48 49 52 42 48 45 54 55 56 56 59 56 46 56 41 39 46 55 45 53 59 43 37\n",
      " 49 51 46 48 53 52 50 43 53 53 50 54 45 54 46 47 48 51 53 42 54 50 51 43\n",
      " 40 54 53 54 44 46 46 46 51 50 54 52 47 51 49 49 45 49 56 46 58 58 43 49\n",
      " 49 45 49 52 61 44 51 51 48 55 48 38 54 50 46 52 57 50 49 48 56 51 46 49\n",
      " 43 52 54 57 51 62 46 50 56 46 55 51 45 50 54 52 59 46 43 43 50 41 59 49\n",
      " 50 55 49 48 46 45 56 47 45 53 57 50 40 45 58 57 57 51 44 52 53 47 44 36\n",
      " 47 49 56 47 56 55 52 49 55 52 55 50 53 53 44 45 41 47 46 47 50 54 54 47\n",
      " 47 45 47 47 55 54 56 52 49 41 58 55 45 51 54 49 59 62 47 50 54 53 56 53\n",
      " 50 46 47 47 48 46 45 50 56 44 48 56 47 52 50 54 47 47 47 51 54 45 48 45\n",
      " 48 45 46 58 47 60 53 50 48 44 52 57 53 55 43 49 46 51 49 49 53 51 34 62\n",
      " 50 42 61 37 46 49 55 56 58 56 44 49 53 42 49 55 64 50 53 56 57 44 52 54\n",
      " 52 47 54 46 54 59 54 46 47 50 49 50 53 56 44 51 45 47 52 49 49 48 48 47\n",
      " 46 41 54 50 49 41 56 49 54 59 55 50 46 44 50 47 52 54 62 43 59 53 47 52\n",
      " 50 51 49 52 44 50 51 43 45 43 46 51 45 55 52 48 43 51 57 50 48 53 44 51\n",
      " 52 51 58 39 45 54 49 47 61 46 46 48 47 56 52 53 57 50 48 55 59 52 47 52\n",
      " 54 61 45 40 54 48 55 46 35 41 51 51 44 50 47 51 49 55 53 54 53 46 49 47\n",
      " 45 51 50 52 50 54 54 46 46 55 42 57 62 59 45 52 48 48 41 43 59 47 51 43\n",
      " 54 50 43 49 50 54 54 47 45 50 53 54 52 53 48 42 56 53 48 48 39 52 51 51\n",
      " 54 47 40 41 45 43 39 45 51 39 49 43 55 51 47 49 48 55 46 58 45 48 52 47\n",
      " 53 55 46 45 49 44 47 51 54 49 60 56 47 47 54 43 41 49 39 52 48 55 53 49\n",
      " 45 55 50 58 56 38 62 50 50 54 46 48 52 57 48 57 44 53 56 47 56 57 51 49\n",
      " 43 46 48 48 53 49 54 50 47 58 50 47 58 46 46 44 48 56 43 40 50 62 52 55\n",
      " 47 49 54 52 53 54 51 54 43 52 54 48 46 60 52 49 53 46 44 43 50 44 46 46\n",
      " 48 46 56 52 43 50 51 46 47 46 43 52 50 53 44 47 55 48 56 51 44 52 53 54\n",
      " 56 44 42 48 61 42 49 49 43 54 54 47 43 47 59 55 52 47 46 44 55 49 57 39\n",
      " 53 57 59 47 48 53 46 49 45 54 54 49 52 51 56 53 47 48 50 50 47 51 47 64\n",
      " 51 49 48 44 45 40 50 45 51 51 54 47 43 41 45 47 59 47 48 53 49 45 57 50\n",
      " 54 57 51 53 45 47 45 46 46 37 53 46 56 51 48 51 58 52 48 46 54 48 54 40\n",
      " 46 51 54 52 51 54 55 51 50 52 45 49 48 45 45 49 50 48 44 56 64 42 46 52\n",
      " 48 47 47 54 52 54 59 43 54 53 49 44 48 55 53 49 47 49 51 42 54 53 41 48\n",
      " 47 44 54 47 54 59 50 60 57 45 51 50 50 59 44 56 55 46 58 51 55 48 56 57\n",
      " 45 46 47 44 52 50 50 42 46 48 48 52 50 49 56 58 52 49 57 60 53 46 48 50\n",
      " 41 52 46 55 49 56 52 52 52 47 50 45 44 59 48 53 56 43 58 54 42 57 65 48\n",
      " 57 55 49 46 51 46 56 48 54 50 49 48 43 60 45 48 46 50 51 56 47 57 49 47\n",
      " 52 48 55 46 55 55 48 43 44 51 58 46 47 54 59 54 56 50 46 48 53 45 46 51\n",
      " 43 51 51 51 57 48 52 51 45 56 56 55 50 39 56 49 49 43 57 43 57 53 50 41\n",
      " 51 50 52 47 53 57 48 47 48 54 46 54 46 48 47 50 47 57 46 49 49 49 47 48\n",
      " 51 53 49 60 48 55 55 49 56 60 56 56 46 48 57 51 54 48 50 53 56 51 60 58\n",
      " 52 49 55 56 46 53 48 51 52 50 57 56 50 45 55 51]\n"
     ]
    }
   ],
   "source": [
    "# started code from \"https://www.w3schools.com/python/numpy_random_binomial.asp\"\n",
    "\n",
    "# n - number of trials.\n",
    "# p - probability of occurence of each trial (e.g. for toss of a coin 0.5 each).\n",
    "# size - The shape of the returned array.\n",
    "\n",
    "x = random.binomial(n=100, p=0.5, size=1000)\n",
    "\n",
    "print(x) "
   ]
  },
  {
   "cell_type": "markdown",
   "metadata": {},
   "source": [
    "## Plotting flipping coin 100 times in a trial 1000"
   ]
  },
  {
   "cell_type": "code",
   "execution_count": 19,
   "metadata": {},
   "outputs": [
    {
     "data": {
      "image/png": "[encoded data removed]",
      "text/plain": [
       "<Figure size 432x288 with 1 Axes>"
      ]
     },
     "metadata": {
      "needs_background": "light"
     },
     "output_type": "display_data"
    }
   ],
   "source": [
    "sns.distplot(random.binomial(n=100, p=0.5, size=1000), hist=True, kde=False)\n",
    "\n",
    "plt.show() "
   ]
  },
  {
   "cell_type": "markdown",
   "metadata": {},
   "source": [
    "## References"
   ]
  },
  {
   "cell_type": "markdown",
   "metadata": {},
   "source": [
    "https://github.com/caroltreacy/programming-2020-Ass/blob/main/Assignment%202020.ipynb\n",
    "    \n",
    "https://www.statisticshowto.com/probability-and-statistics/binomial-theorem/binomial-distribution-formula/ \n",
    "\n",
    "https://www.w3schools.com/python/numpy_random_binomial.asp"
   ]
  },
  {
   "cell_type": "markdown",
   "metadata": {},
   "source": [
    "## End"
   ]
  }
 ],
 "metadata": {
  "kernelspec": {
   "display_name": "Python 3",
   "language": "python",
   "name": "python3"
  },
  "language_info": {
   "codemirror_mode": {
    "name": "ipython",
    "version": 3
   },
   "file_extension": ".py",
   "mimetype": "text/x-python",
   "name": "python",
   "nbconvert_exporter": "python",
   "pygments_lexer": "ipython3",
   "version": "3.8.3"
  }
 },
 "nbformat": 4,
 "nbformat_minor": 4
}
