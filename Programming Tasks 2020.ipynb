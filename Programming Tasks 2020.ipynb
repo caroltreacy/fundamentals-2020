{
 "cells": [
  {
   "cell_type": "markdown",
   "metadata": {},
   "source": [
    "# Task 1"
   ]
  },
  {
   "cell_type": "markdown",
   "metadata": {},
   "source": [
    "## Counts\n",
    "## by Carol Treacy"
   ]
  },
  {
   "cell_type": "code",
   "execution_count": 1,
   "metadata": {},
   "outputs": [],
   "source": [
    "# import numpy package\n",
    "import numpy as np"
   ]
  },
  {
   "cell_type": "markdown",
   "metadata": {},
   "source": [
    "## Introduction"
   ]
  },
  {
   "cell_type": "markdown",
   "metadata": {},
   "source": [
    "A list is a mutable, ordered sequence of items. As such, it can be indexed, sliced, and changed. Each element can be accessed using its position in the list.\n",
    "\n",
    "A dictionary is a mutable, unordered set of key-value pairs where each key must be unique.\n",
    "\n",
    "https://www.pluralsight.com/guides/manipulating-lists-dictionaries-python"
   ]
  },
  {
   "cell_type": "markdown",
   "metadata": {},
   "source": [
    "## Code"
   ]
  },
  {
   "cell_type": "markdown",
   "metadata": {},
   "source": [
    "### Step 1"
   ]
  },
  {
   "cell_type": "code",
   "execution_count": 4,
   "metadata": {},
   "outputs": [
    {
     "name": "stdout",
     "output_type": "stream",
     "text": [
      "['A', 'A', 'B', 'C', 'A']\n"
     ]
    }
   ],
   "source": [
    "list = ['A', 'A', 'B', 'C', 'A']\n",
    "print(list)"
   ]
  },
  {
   "cell_type": "markdown",
   "metadata": {},
   "source": [
    "To start my task I started by working out how to print my list using the following website\n",
    "https://openbookproject.net/thinkcs/python/english3e/dictionaries.html "
   ]
  },
  {
   "cell_type": "markdown",
   "metadata": {},
   "source": [
    "### Step 2"
   ]
  },
  {
   "cell_type": "code",
   "execution_count": 7,
   "metadata": {},
   "outputs": [
    {
     "name": "stdout",
     "output_type": "stream",
     "text": [
      "{'A': 3, 'B': 1, 'C': 1}\n"
     ]
    }
   ],
   "source": [
    "list = {'A': 1, 'A': 2, 'B': 1, 'C': 1, 'A': 3}\n",
    "print(list)"
   ]
  },
  {
   "cell_type": "markdown",
   "metadata": {},
   "source": [
    "I gave each letter a number but initial results gave me a value for one for each. I then went back and gave the second and three 'A' the value of 2 and 3."
   ]
  },
  {
   "cell_type": "markdown",
   "metadata": {},
   "source": [
    "## End"
   ]
  },
  {
   "cell_type": "markdown",
   "metadata": {},
   "source": [
    "<BR>"
   ]
  },
  {
   "cell_type": "markdown",
   "metadata": {},
   "source": [
    "# Task 2"
   ]
  },
  {
   "cell_type": "markdown",
   "metadata": {},
   "source": [
    "## Dicerolls"
   ]
  },
  {
   "cell_type": "markdown",
   "metadata": {},
   "source": [
    "## by Carol Treacy"
   ]
  },
  {
   "cell_type": "markdown",
   "metadata": {},
   "source": [
    "## Introduction"
   ]
  },
  {
   "cell_type": "markdown",
   "metadata": {},
   "source": [
    "This program is called dicerolls and it simulates rolling dice. The function has two parameters: \n",
    "- the number of dice k \n",
    "- the number of times to roll the dice n. \n",
    "\n",
    "The function simulates randomly rolling k dice n times, keeping track of each total face value. It then returns a dictionary with the number of times each possible total face value occurred. \n",
    "\n",
    "The program should return a function as diceroll(k=2, n=1000)should return a dictionary like:{2:19,3:50,4:82,5:112,6:135,7:174,8:133,9:114,10:75,11:70,12:36}"
   ]
  },
  {
   "cell_type": "markdown",
   "metadata": {},
   "source": [
    "## Uniform Distribution"
   ]
  },
  {
   "cell_type": "markdown",
   "metadata": {},
   "source": [
    "In statistics, uniform distribution is a term used to describe a form of probability distribution where every possible outcome has an equal likelihood of happening. The probability is constant since each variable has equal chances of being the outcome. Good examples are picking a card from a deck or rolling a dice.\n",
    "\n",
    "Withing the uniform distribution there are two examples of uniform distributions.\n",
    "\n",
    "Descrete uniform distributions\n",
    "\n",
    "    probability of hitting heads or tails\n",
    "    probability of landing on each side of a dice\n",
    "\n",
    "Continuous uniform distribution\n",
    "\n",
    "    perfect random number generator\n",
    "    probability of guessing exact time at any moment"
   ]
  },
  {
   "cell_type": "markdown",
   "metadata": {},
   "source": [
    "## Import Code to run programs"
   ]
  },
  {
   "cell_type": "code",
   "execution_count": 10,
   "metadata": {},
   "outputs": [],
   "source": [
    "# imported to run programs\n",
    "import numpy as np\n",
    "import matplotlib.pyplot as plt\n",
    "import pandas as pd\n",
    "import seaborn as sns"
   ]
  },
  {
   "cell_type": "markdown",
   "metadata": {},
   "source": [
    "## Carring out task"
   ]
  },
  {
   "cell_type": "markdown",
   "metadata": {},
   "source": [
    "Basic code to give results of rolling a dice 1000 and the results it returns."
   ]
  },
  {
   "cell_type": "code",
   "execution_count": 12,
   "metadata": {},
   "outputs": [],
   "source": [
    "# np.random.uniform(1.0,6.0,1000)\n",
    "#the first number is the lowest, the second is the highest, and the last is the amount of numbers i want to return"
   ]
  },
  {
   "cell_type": "code",
   "execution_count": 13,
   "metadata": {},
   "outputs": [
    {
     "data": {
      "text/plain": [
       "array([4, 3, 1, 2, 3, 2, 4, 2, 4, 5, 2, 3, 2, 4, 5, 3, 2, 3, 5, 3, 2, 3,\n",
       "       5, 4, 2, 2, 3, 3, 2, 3, 2, 3, 3, 0, 4, 2, 1, 4, 1, 3, 1, 1, 1, 4,\n",
       "       2, 3, 2, 1, 3, 2, 3, 5, 2, 2, 2, 3, 3, 1, 2, 3, 2, 4, 3, 5, 3, 2,\n",
       "       1, 2, 2, 3, 3, 1, 5, 4, 2, 4, 3, 3, 2, 3, 3, 3, 4, 0, 3, 3, 4, 4,\n",
       "       4, 4, 3, 4, 2, 3, 3, 2, 4, 3, 2, 4], dtype=int64)"
      ]
     },
     "execution_count": 13,
     "metadata": {},
     "output_type": "execute_result"
    }
   ],
   "source": [
    "rng = np.random.default_rng()\n",
    "n, p = 6, .5  \n",
    "# 6(0 to 5 and not including 6) is the number that will give 6 possible answers, .5 is the % of heads/tails,\n",
    "s = rng.binomial(n, p, 100) \n",
    "# result of flipping a coin 100\n",
    "s"
   ]
  },
  {
   "cell_type": "code",
   "execution_count": 14,
   "metadata": {},
   "outputs": [],
   "source": [
    "### Plotting 100 times rolling dice"
   ]
  },
  {
   "cell_type": "code",
   "execution_count": 15,
   "metadata": {},
   "outputs": [
    {
     "data": {
      "image/png": "[encoded data removed]",
      "text/plain": [
       "<Figure size 432x288 with 1 Axes>"
      ]
     },
     "metadata": {
      "needs_background": "light"
     },
     "output_type": "display_data"
    }
   ],
   "source": [
    "plt.xlabel(\"Numbers on dice\")\n",
    "plt.ylabel(\"Times tested\")\n",
    "plt.title(\"Rolling dice\")\n",
    "plt.hist(s)\n",
    "plt.show()"
   ]
  },
  {
   "cell_type": "markdown",
   "metadata": {},
   "source": [
    "## Carrying out the test 1000"
   ]
  },
  {
   "cell_type": "code",
   "execution_count": 16,
   "metadata": {},
   "outputs": [
    {
     "data": {
      "text/plain": [
       "0.817"
      ]
     },
     "execution_count": 16,
     "metadata": {},
     "output_type": "execute_result"
    }
   ],
   "source": [
    "sum(rng.binomial(2, 0.1, 1000) == 0)/1000 \n",
    "# completed the task 1000 times to see how often 1 could be randoming selected"
   ]
  },
  {
   "cell_type": "markdown",
   "metadata": {},
   "source": [
    "## Diceroll (k=2, n =1000)"
   ]
  },
  {
   "cell_type": "code",
   "execution_count": 17,
   "metadata": {},
   "outputs": [
    {
     "name": "stdout",
     "output_type": "stream",
     "text": [
      "I rolled the dice 3 times\n"
     ]
    }
   ],
   "source": [
    "# started from https://stackoverflow.com/questions/44008489/dice-rolling-simulator-in-python\n",
    "# randomly rolling the dice\n",
    "import random\n",
    "print(\"I rolled the dice\",random.randint(1,6,),\"times\")"
   ]
  },
  {
   "cell_type": "markdown",
   "metadata": {},
   "source": [
    "## References"
   ]
  },
  {
   "cell_type": "markdown",
   "metadata": {},
   "source": [
    "https://www.quora.com/How-can-I-generate-a-uniform-distribution-of-numbers-from-a-dice-roll-fairly\n",
    "\n",
    "https://en.wikibooks.org/wiki/Probability/Important_Distributions\n",
    "\n",
    "https://github.com/caroltreacy/programming-2020-Ass/blob/main/Assignment%202020.ipynb\n",
    "    \n",
    "https://www.statisticshowto.com/probability-and-statistics/binomial-theorem/binomial-distribution-formula/\n",
    "\n",
    "https://stackoverflow.com/questions/12771961/python-dice-simulation"
   ]
  },
  {
   "cell_type": "markdown",
   "metadata": {},
   "source": [
    "## End"
   ]
  },
  {
   "cell_type": "markdown",
   "metadata": {},
   "source": [
    "<Br>"
   ]
  },
  {
   "cell_type": "markdown",
   "metadata": {},
   "source": [
    "# Task 3"
   ]
  },
  {
   "cell_type": "markdown",
   "metadata": {},
   "source": [
    "## By Carol Treacy"
   ]
  },
  {
   "cell_type": "markdown",
   "metadata": {},
   "source": [
    "## Numpy.random-Binomial function"
   ]
  },
  {
   "cell_type": "markdown",
   "metadata": {},
   "source": [
    "## Introduction"
   ]
  },
  {
   "cell_type": "markdown",
   "metadata": {},
   "source": [
    "This program numpy.random.binomial function is used to simulate flipping a coin with a 50/50 chance of heads or tails. If a coin is flipped many times then the number of heads is well approximated by a bell-shaped curve. It, if we flip a coin 100 times in a row the chance of getting 50 heads is relatively high, the chances of getting 0 or 100 heads is relatively low, and the chances of getting any other number of heads decreases as you moveaway from 50 in either direction towards 0 or 100. \n",
    "\n",
    "This python code will simulates flipping a coin 100 times. I will run this code 1,000 times, keeping track of the number of heads in each of the 1,000 simulations. I will plot the results to depict the resulting list of 1,000 numbers, showing that it roughly follows a bell-shaped curve."
   ]
  },
  {
   "cell_type": "markdown",
   "metadata": {},
   "source": [
    "## Import packages"
   ]
  },
  {
   "cell_type": "code",
   "execution_count": 20,
   "metadata": {},
   "outputs": [],
   "source": [
    "# to start using numpy.random you have to import numpy, matplotlib\n",
    "import numpy as np\n",
    "from numpy import random\n",
    "import matplotlib.pyplot as plt\n",
    "import pandas as pd\n",
    "import seaborn as sns"
   ]
  },
  {
   "cell_type": "markdown",
   "metadata": {},
   "source": [
    "## Random numbers"
   ]
  },
  {
   "cell_type": "markdown",
   "metadata": {},
   "source": [
    "The randint distribution can randomly pick numbers between two values that you give them."
   ]
  },
  {
   "cell_type": "code",
   "execution_count": 21,
   "metadata": {},
   "outputs": [
    {
     "name": "stdout",
     "output_type": "stream",
     "text": [
      "11\n"
     ]
    }
   ],
   "source": [
    "x = random.randint(0, 100)\n",
    "\n",
    "print(x) # prints a random number"
   ]
  },
  {
   "cell_type": "markdown",
   "metadata": {},
   "source": [
    "## Binomial Distribution"
   ]
  },
  {
   "cell_type": "markdown",
   "metadata": {},
   "source": [
    "A binomial distribution can be thought of as simply the probability of a SUCCESS or FAILURE outcome in an experiment or survey that is repeated multiple times. The binomial is a type of distribution that has two possible outcomes (the prefix “bi” means two, or twice). For example, a coin toss has only two possible outcomes: heads or tails and taking a test could have two possible outcomes: pass or fail.\n",
    "\n",
    "The record flipping a coin 100 times I will use the binomial distribution from numpy.random."
   ]
  },
  {
   "cell_type": "markdown",
   "metadata": {},
   "source": [
    "### Flipping coin 100 times"
   ]
  },
  {
   "cell_type": "code",
   "execution_count": 22,
   "metadata": {},
   "outputs": [
    {
     "data": {
      "text/plain": [
       "array([1, 0, 0, 1, 1, 0, 0, 0, 0, 1, 1, 1, 0, 1, 0, 0, 0, 0, 0, 1, 1, 1,\n",
       "       1, 0, 1, 0, 1, 0, 1, 1, 1, 1, 1, 0, 0, 0, 1, 1, 0, 0, 1, 0, 1, 0,\n",
       "       0, 1, 1, 0, 0, 0, 0, 0, 1, 1, 0, 1, 1, 1, 0, 0, 1, 1, 0, 1, 0, 0,\n",
       "       1, 1, 1, 1, 1, 1, 0, 1, 1, 0, 1, 0, 0, 1, 0, 0, 0, 1, 1, 1, 0, 1,\n",
       "       0, 0, 1, 0, 0, 1, 1, 0, 1, 1, 1, 0], dtype=int64)"
      ]
     },
     "execution_count": 22,
     "metadata": {},
     "output_type": "execute_result"
    }
   ],
   "source": [
    "rng = np.random.default_rng()\n",
    "n, p = 1, .5  # 1 is heads and 0 is tails and .5 is the chances of heads/tails\n",
    "s = rng.binomial(n, p, 100) # result of flipping a coin 100 times.\n",
    "s"
   ]
  },
  {
   "cell_type": "code",
   "execution_count": 23,
   "metadata": {},
   "outputs": [
    {
     "name": "stdout",
     "output_type": "stream",
     "text": [
      "[1 0 0 1 1 0 0 0 0 1 1 1 0 1 0 0 0 0 0 1 1 1 1 0 1 0 1 0 1 1 1 1 1 0 0 0 1\n",
      " 1 0 0 1 0 1 0 0 1 1 0 0 0 0 0 1 1 0 1 1 1 0 0 1 1 0 1 0 0 1 1 1 1 1 1 0 1\n",
      " 1 0 1 0 0 1 0 0 0 1 1 1 0 1 0 0 1 0 0 1 1 0 1 1 1 0]\n"
     ]
    }
   ],
   "source": [
    "# prints the list of s\n",
    "list = ['s']\n",
    "print(s)"
   ]
  },
  {
   "cell_type": "markdown",
   "metadata": {},
   "source": [
    "### Plot of flipping a coin 100 times"
   ]
  },
  {
   "cell_type": "markdown",
   "metadata": {},
   "source": [
    "The results of flipping a coin 100 times gives we would not suspect that the coin is biased, this could very easily happen \"by chance\".  This randomly gave me the results of 40 heads and 60 tails."
   ]
  },
  {
   "cell_type": "code",
   "execution_count": 24,
   "metadata": {},
   "outputs": [
    {
     "data": {
      "image/png": "[encoded data removed]",
      "text/plain": [
       "<Figure size 432x288 with 1 Axes>"
      ]
     },
     "metadata": {
      "needs_background": "light"
     },
     "output_type": "display_data"
    }
   ],
   "source": [
    "# labels the x and y axces\n",
    "plt.xlabel(\"0=heads, 1=tails\")\n",
    "plt.ylabel(\"Times flipped\")\n",
    "# gives the title\n",
    "plt.title(\"Flipping coin 100 times\")\n",
    "# prints the histogram\n",
    "plt.hist(s)\n",
    "plt.show()"
   ]
  },
  {
   "cell_type": "code",
   "execution_count": 25,
   "metadata": {},
   "outputs": [
    {
     "data": {
      "text/plain": [
       "0.818"
      ]
     },
     "execution_count": 25,
     "metadata": {},
     "output_type": "execute_result"
    }
   ],
   "source": [
    "sum(rng.binomial(2, 0.1, 1000) == 0)/1000 \n",
    "# completed the task 1000 times to see how often 1 could be randoming selected"
   ]
  },
  {
   "cell_type": "markdown",
   "metadata": {},
   "source": [
    "## Running the sample 1000 times"
   ]
  },
  {
   "cell_type": "code",
   "execution_count": 26,
   "metadata": {},
   "outputs": [
    {
     "name": "stdout",
     "output_type": "stream",
     "text": [
      "[49 49 39 60 45 51 48 48 46 43 43 47 52 53 36 46 52 44 52 52 43 50 47 58\n",
      " 37 55 48 51 47 51 49 50 51 50 55 41 53 53 50 48 52 50 57 48 53 43 51 47\n",
      " 51 50 49 51 46 52 54 55 53 61 41 45 60 46 52 51 51 49 48 46 41 58 57 47\n",
      " 45 43 50 49 51 44 57 52 51 45 45 51 51 49 53 50 42 44 49 49 50 51 54 44\n",
      " 46 52 51 53 51 54 51 56 48 51 50 49 45 49 53 54 47 52 46 45 50 52 45 40\n",
      " 53 47 48 43 48 50 51 58 53 44 44 51 48 58 56 51 62 57 44 50 52 43 52 50\n",
      " 49 52 54 50 44 52 49 45 52 53 44 50 54 54 46 48 52 39 35 52 56 43 49 54\n",
      " 48 44 44 46 45 46 55 45 46 43 46 48 46 47 52 52 51 49 44 43 52 50 43 47\n",
      " 51 58 50 37 43 56 47 38 60 48 53 50 45 42 48 51 50 47 60 49 50 52 49 60\n",
      " 58 52 61 47 42 38 42 50 51 53 55 54 48 47 58 53 41 44 39 49 47 54 58 42\n",
      " 54 49 49 46 53 42 57 59 46 54 54 46 49 50 58 56 53 44 56 45 45 50 44 51\n",
      " 56 40 60 47 50 43 37 55 44 48 45 46 41 51 41 54 57 51 55 49 44 51 48 61\n",
      " 52 53 50 48 47 53 54 46 56 48 45 44 55 48 53 53 51 50 47 52 46 53 53 52\n",
      " 50 56 43 46 53 55 43 53 54 47 49 54 55 42 53 46 43 51 52 55 50 50 46 47\n",
      " 49 53 43 53 52 45 44 49 53 51 50 56 50 46 53 47 48 51 54 52 55 47 44 49\n",
      " 53 55 46 61 53 50 42 51 50 50 59 44 59 43 54 46 53 51 56 53 56 43 51 45\n",
      " 54 46 55 57 47 46 52 54 56 52 47 49 51 55 58 56 51 52 57 49 48 53 51 49\n",
      " 57 48 49 47 51 56 53 37 55 45 56 43 52 56 48 48 55 52 47 52 46 46 44 51\n",
      " 42 50 50 53 43 51 46 49 46 52 52 57 51 52 59 62 53 52 57 43 53 56 46 50\n",
      " 59 46 50 42 46 44 54 48 45 51 55 47 60 51 49 60 40 48 54 50 59 50 41 44\n",
      " 46 50 45 46 51 45 46 44 46 56 42 40 48 53 51 50 47 48 49 52 58 57 48 52\n",
      " 47 43 50 54 53 49 43 46 52 47 50 49 44 41 47 50 54 48 61 55 50 50 49 55\n",
      " 47 46 40 53 46 50 55 39 50 47 53 45 49 43 52 55 53 52 37 48 48 47 57 46\n",
      " 49 52 42 49 47 49 48 52 42 44 51 56 44 47 55 56 53 46 48 49 45 51 51 52\n",
      " 48 45 43 44 51 50 60 48 42 47 53 53 56 50 57 53 50 51 57 46 50 48 50 49\n",
      " 54 46 56 56 49 47 55 53 37 48 42 47 49 51 48 50 45 48 52 60 47 50 49 40\n",
      " 58 49 53 52 48 45 50 52 47 52 54 42 48 41 48 56 64 50 46 54 42 52 50 57\n",
      " 53 47 53 46 51 48 52 53 48 50 51 53 49 50 56 52 60 51 43 50 44 54 51 49\n",
      " 52 47 50 52 52 51 56 45 48 49 51 43 45 50 53 54 57 43 52 60 45 54 56 45\n",
      " 43 50 51 54 51 44 52 43 59 51 50 47 54 53 45 59 52 48 50 49 60 55 42 54\n",
      " 48 53 46 47 50 44 58 56 57 46 52 55 43 50 42 49 43 57 59 42 55 57 45 51\n",
      " 44 51 53 60 51 51 49 52 51 52 43 43 50 45 51 58 50 52 50 57 41 51 50 55\n",
      " 44 45 43 50 41 46 46 62 46 45 55 51 49 45 55 42 44 58 43 55 45 49 48 42\n",
      " 52 56 49 49 41 57 49 43 48 50 56 45 53 56 47 51 55 55 52 48 48 56 54 46\n",
      " 51 49 54 59 56 51 59 57 40 57 45 45 54 48 41 45 52 46 57 40 50 46 53 47\n",
      " 59 52 55 51 52 48 57 48 57 55 55 52 53 37 48 53 40 38 54 49 47 48 47 48\n",
      " 51 54 54 52 55 42 46 46 48 46 47 54 45 52 50 46 53 53 47 46 50 49 45 49\n",
      " 47 51 49 46 48 46 54 50 48 43 45 51 54 51 56 37 54 47 57 47 50 34 49 60\n",
      " 41 47 49 47 50 50 58 49 42 50 54 52 46 44 53 47 51 45 38 46 54 37 56 50\n",
      " 56 43 42 50 53 51 64 49 46 42 52 52 46 55 48 46 56 56 46 50 49 57 47 50\n",
      " 44 44 46 57 49 47 52 50 50 52 52 53 53 51 53 47 50 52 53 53 51 51 51 53\n",
      " 56 59 58 60 47 56 50 57 54 58 47 49 50 63 43 49]\n"
     ]
    }
   ],
   "source": [
    "# started code from \"https://www.w3schools.com/python/numpy_random_binomial.asp\"\n",
    "\n",
    "# n - number of trials.\n",
    "# p - probability of occurence of each trial (e.g. for toss of a coin 0.5 each).\n",
    "# size - The shape of the returned array.\n",
    "\n",
    "x = random.binomial(n=100, p=0.5, size=1000)\n",
    "\n",
    "print(x) "
   ]
  },
  {
   "cell_type": "markdown",
   "metadata": {},
   "source": [
    "## Plotting flipping coin 100 times in a trial 1000"
   ]
  },
  {
   "cell_type": "code",
   "execution_count": 27,
   "metadata": {},
   "outputs": [
    {
     "data": {
      "image/png": "[encoded data removed]",
      "text/plain": [
       "<Figure size 432x288 with 1 Axes>"
      ]
     },
     "metadata": {
      "needs_background": "light"
     },
     "output_type": "display_data"
    }
   ],
   "source": [
    "sns.distplot(random.binomial(n=100, p=0.5, size=1000), hist=True, kde=False)\n",
    "\n",
    "plt.show()"
   ]
  },
  {
   "cell_type": "markdown",
   "metadata": {},
   "source": [
    "## References"
   ]
  },
  {
   "cell_type": "markdown",
   "metadata": {},
   "source": [
    "https://github.com/caroltreacy/programming-2020-Ass/blob/main/Assignment%202020.ipynb\n",
    "    \n",
    "https://www.statisticshowto.com/probability-and-statistics/binomial-theorem/binomial-distribution-formula/ \n",
    "\n",
    "https://www.w3schools.com/python/numpy_random_binomial.asp"
   ]
  },
  {
   "cell_type": "markdown",
   "metadata": {},
   "source": [
    "## End"
   ]
  },
  {
   "cell_type": "markdown",
   "metadata": {},
   "source": [
    "<Br>"
   ]
  },
  {
   "cell_type": "markdown",
   "metadata": {},
   "source": [
    "# Task 4\n",
    "# Simpson's Paradox"
   ]
  },
  {
   "cell_type": "markdown",
   "metadata": {},
   "source": [
    "## By Carol Treacy"
   ]
  },
  {
   "cell_type": "markdown",
   "metadata": {},
   "source": [
    "## Introduction"
   ]
  },
  {
   "cell_type": "markdown",
   "metadata": {},
   "source": [
    "Simpson’s paradox is a well-known statistical paradox where a trend evident in a number of groups reverses when the groups are combined into one big data set. I willse numpy to create four data sets, each with an x array and a corresponding y array, to demonstrate Simpson’s paradox using numpy.linspace and will create the y array for each x using notation likey = a * x + b where I wil choose the a and b for each x,y pair to demonstrate the paradox."
   ]
  },
  {
   "cell_type": "code",
   "execution_count": 30,
   "metadata": {},
   "outputs": [],
   "source": [
    "# imported packages to create data\n",
    "import numpy as np\n",
    "import matplotlib.pyplot as plt"
   ]
  },
  {
   "cell_type": "markdown",
   "metadata": {},
   "source": [
    "## Numpy.linspace"
   ]
  },
  {
   "cell_type": "markdown",
   "metadata": {},
   "source": [
    "The NumPy linspace function (sometimes called np.linspace) is a tool in Python for creating numeric sequences.  It’s somewhat similar to the NumPy arange function, in that it creates sequences of evenly spaced numbers structured as a NumPy array."
   ]
  },
  {
   "cell_type": "code",
   "execution_count": 31,
   "metadata": {},
   "outputs": [
    {
     "data": {
      "text/plain": [
       "array([  0.,  25.,  50.,  75., 100.])"
      ]
     },
     "execution_count": 31,
     "metadata": {},
     "output_type": "execute_result"
    }
   ],
   "source": [
    "# I started with 0 and ended with 100 and asked numpy.linspace to return 5 evenly spaced numbers\n",
    "np.linspace(start = 0, stop = 100, num = 5)"
   ]
  },
  {
   "cell_type": "code",
   "execution_count": 32,
   "metadata": {},
   "outputs": [],
   "source": [
    "x = np.linspace(start = 100, stop = 1000, num = 5)\n",
    "y = np.linspace(start = 0, stop = 100, num = 5)"
   ]
  },
  {
   "cell_type": "code",
   "execution_count": 33,
   "metadata": {},
   "outputs": [
    {
     "data": {
      "text/plain": [
       "array([ 100.,  325.,  550.,  775., 1000.])"
      ]
     },
     "execution_count": 33,
     "metadata": {},
     "output_type": "execute_result"
    }
   ],
   "source": [
    "# shows the values of x\n",
    "x"
   ]
  },
  {
   "cell_type": "code",
   "execution_count": 34,
   "metadata": {},
   "outputs": [
    {
     "data": {
      "text/plain": [
       "array([  0.,  25.,  50.,  75., 100.])"
      ]
     },
     "execution_count": 34,
     "metadata": {},
     "output_type": "execute_result"
    }
   ],
   "source": [
    "# shows the values of y\n",
    "y"
   ]
  },
  {
   "cell_type": "code",
   "execution_count": 35,
   "metadata": {},
   "outputs": [
    {
     "data": {
      "text/plain": [
       "[<matplotlib.lines.Line2D at 0x284a2969a90>]"
      ]
     },
     "execution_count": 35,
     "metadata": {},
     "output_type": "execute_result"
    },
    {
     "data": {
      "image/png": "[encoded data removed]",
      "text/plain": [
       "<Figure size 432x288 with 1 Axes>"
      ]
     },
     "metadata": {
      "needs_background": "light"
     },
     "output_type": "display_data"
    }
   ],
   "source": [
    "# plots x and y\n",
    "# give the labels for the x and y axes\n",
    "plt.xlabel(\"X values\")\n",
    "plt.ylabel(\"Y values\")\n",
    "# prints the title\n",
    "plt.title(\"X and Y plot\")\n",
    "# plots x and y in green \n",
    "plt.plot(x,y, 'g')"
   ]
  },
  {
   "cell_type": "code",
   "execution_count": 36,
   "metadata": {},
   "outputs": [
    {
     "data": {
      "image/png": "[encoded data removed]",
      "text/plain": [
       "<Figure size 432x288 with 1 Axes>"
      ]
     },
     "metadata": {
      "needs_background": "light"
     },
     "output_type": "display_data"
    }
   ],
   "source": [
    "# Histogram showing they are evening spaces\n",
    "plt.xlabel(\"X\")\n",
    "plt.ylabel(\"Y\")\n",
    "plt.title(\"Histogram of x and y\")\n",
    "plt.hist(x)\n",
    "plt.show()"
   ]
  },
  {
   "cell_type": "markdown",
   "metadata": {},
   "source": [
    "## Simpson's paradox"
   ]
  },
  {
   "cell_type": "markdown",
   "metadata": {},
   "source": [
    "Simpson's paradox, which also goes by several other names, is a phenomenon in probability and statistics, in which a trend appears in several different groups of data but disappears or reverses or change directions when these groups are combined. Simpson's paradox in statistics, an effect that occurs when the marginal association between two categorical variables is qualitatively different from the partial association between the same two variables after controlling for one or more other variables."
   ]
  },
  {
   "cell_type": "markdown",
   "metadata": {},
   "source": [
    "Using numpy.linspace I will create the y array for each x using notatation of y = a * x + b"
   ]
  },
  {
   "cell_type": "code",
   "execution_count": 39,
   "metadata": {},
   "outputs": [
    {
     "data": {
      "text/plain": [
       "[<matplotlib.lines.Line2D at 0x284a2a28880>]"
      ]
     },
     "execution_count": 39,
     "metadata": {},
     "output_type": "execute_result"
    },
    {
     "data": {
      "image/png": "[encoded data removed]",
      "text/plain": [
       "<Figure size 432x288 with 1 Axes>"
      ]
     },
     "metadata": {
      "needs_background": "light"
     },
     "output_type": "display_data"
    }
   ],
   "source": [
    "# random plot of x and y \n",
    "y = np.linspace(start = 0, stop = 1000, num = 5)\n",
    "\n",
    "# added some noise\n",
    "x = np.random.normal(x)\n",
    "\n",
    "# plots on red dots\n",
    "plt.plot(x,y,'r' 'p')"
   ]
  },
  {
   "cell_type": "markdown",
   "metadata": {},
   "source": [
    "## References"
   ]
  },
  {
   "cell_type": "markdown",
   "metadata": {},
   "source": [
    "- https://www.programcreek.com/python/example/4228/numpy.linspace\n",
    "\n",
    "- https://www.geeksforgeeks.org/numpy-linspace-python/\n",
    "\n",
    "- https://www.sharpsightlabs.com/blog/numpy-linspace/\n",
    "\n",
    "- https://en.wikipedia.org/wiki/Simpson%27s_paradox\n",
    "\n",
    "- https://www.britannica.com/topic/Simpsons-paradox"
   ]
  },
  {
   "cell_type": "markdown",
   "metadata": {},
   "source": [
    "## End"
   ]
  }
 ],
 "metadata": {
  "kernelspec": {
   "display_name": "Python 3",
   "language": "python",
   "name": "python3"
  },
  "language_info": {
   "codemirror_mode": {
    "name": "ipython",
    "version": 3
   },
   "file_extension": ".py",
   "mimetype": "text/x-python",
   "name": "python",
   "nbconvert_exporter": "python",
   "pygments_lexer": "ipython3",
   "version": "3.8.3"
  }
 },
 "nbformat": 4,
 "nbformat_minor": 4
}
