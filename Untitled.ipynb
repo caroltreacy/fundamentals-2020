{
 "cells": [
  {
   "cell_type": "markdown",
   "metadata": {},
   "source": [
    "# November 30th, 2020:Simpson’s paradox is a well-known statistical paradoxwhere a trend evident in a number of groups reverses when the groups are combinedinto one big data set.  Use numpy to create four data sets, each with anxarrayand  a  correspondingyarray,  to  demonstrate  Simpson’s  paradox.   You  mightcreate  yourxarrays  usingnumpy.linspaceand  create  theyarray  for  eachxusing notation likey = a * x + bwhere you choose theaandbfor eachx,ypair to demonstrate the paradox.  You might see the Wikipedia page forSimpson’s paradox for inspiration"
   ]
  },
  {
   "cell_type": "code",
   "execution_count": null,
   "metadata": {},
   "outputs": [],
   "source": []
  }
 ],
 "metadata": {
  "kernelspec": {
   "display_name": "Python 3",
   "language": "python",
   "name": "python3"
  },
  "language_info": {
   "codemirror_mode": {
    "name": "ipython",
    "version": 3
   },
   "file_extension": ".py",
   "mimetype": "text/x-python",
   "name": "python",
   "nbconvert_exporter": "python",
   "pygments_lexer": "ipython3",
   "version": "3.8.3"
  }
 },
 "nbformat": 4,
 "nbformat_minor": 4
}
